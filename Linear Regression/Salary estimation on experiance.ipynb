{
 "cells": [
  {
   "cell_type": "code",
   "execution_count": 1,
   "id": "56be23ac",
   "metadata": {},
   "outputs": [
    {
     "name": "stderr",
     "output_type": "stream",
     "text": [
      "22/01/24 10:55:35 WARN Utils: Your hostname, pavanlinux resolves to a loopback address: 127.0.0.1; using 10.0.2.15 instead (on interface enp0s3)\n",
      "22/01/24 10:55:35 WARN Utils: Set SPARK_LOCAL_IP if you need to bind to another address\n",
      "22/01/24 10:55:36 WARN NativeCodeLoader: Unable to load native-hadoop library for your platform... using builtin-java classes where applicable\n",
      "Using Spark's default log4j profile: org/apache/spark/log4j-defaults.properties\n",
      "Setting default log level to \"WARN\".\n",
      "To adjust logging level use sc.setLogLevel(newLevel). For SparkR, use setLogLevel(newLevel).\n"
     ]
    }
   ],
   "source": [
    "import findspark\n",
    "findspark.init()\n",
    "from pyspark.sql import SparkSession\n",
    "spark = SparkSession.builder.getOrCreate()"
   ]
  },
  {
   "cell_type": "code",
   "execution_count": 2,
   "id": "ecc70cca",
   "metadata": {},
   "outputs": [],
   "source": [
    "import numpy as np\n",
    "import pandas as pd                   \n",
    "import matplotlib.pyplot as plt       \n",
    "import seaborn as sns\n",
    "from pyspark.ml.feature import VectorAssembler"
   ]
  },
  {
   "cell_type": "code",
   "execution_count": 3,
   "id": "b55760a9",
   "metadata": {},
   "outputs": [
    {
     "name": "stderr",
     "output_type": "stream",
     "text": []
    }
   ],
   "source": [
    "df = spark.read.csv(\"file:///home/pavan-linux/MLib/Linear Regression/Salary_Data.csv\",inferSchema=True,header=True)"
   ]
  },
  {
   "cell_type": "code",
   "execution_count": 4,
   "id": "20018215",
   "metadata": {},
   "outputs": [
    {
     "name": "stdout",
     "output_type": "stream",
     "text": [
      "+---------------+----+------+\n",
      "|YearsExperience| Age|Salary|\n",
      "+---------------+----+------+\n",
      "|            1.1|21.0| 39343|\n",
      "|            1.3|21.5| 46205|\n",
      "|            1.5|21.7| 37731|\n",
      "|            2.0|22.0| 43525|\n",
      "|            2.2|22.2| 39891|\n",
      "+---------------+----+------+\n",
      "only showing top 5 rows\n",
      "\n"
     ]
    }
   ],
   "source": [
    "df.show(5)"
   ]
  },
  {
   "cell_type": "code",
   "execution_count": 5,
   "id": "fe2e6567",
   "metadata": {},
   "outputs": [],
   "source": [
    "feature = VectorAssembler(inputCols=['YearsExperience','Age'],outputCol='features')"
   ]
  },
  {
   "cell_type": "code",
   "execution_count": 6,
   "id": "26562449",
   "metadata": {},
   "outputs": [],
   "source": [
    "final_data  = feature.transform(df)"
   ]
  },
  {
   "cell_type": "code",
   "execution_count": 7,
   "id": "527acc43",
   "metadata": {},
   "outputs": [],
   "source": [
    "final_data = final_data.select('features','Salary')"
   ]
  },
  {
   "cell_type": "code",
   "execution_count": 8,
   "id": "c2c0e2d0",
   "metadata": {
    "scrolled": true
   },
   "outputs": [
    {
     "name": "stdout",
     "output_type": "stream",
     "text": [
      "+----------+------+\n",
      "|  features|Salary|\n",
      "+----------+------+\n",
      "|[1.1,21.0]| 39343|\n",
      "|[1.3,21.5]| 46205|\n",
      "|[1.5,21.7]| 37731|\n",
      "|[2.0,22.0]| 43525|\n",
      "|[2.2,22.2]| 39891|\n",
      "+----------+------+\n",
      "only showing top 5 rows\n",
      "\n"
     ]
    }
   ],
   "source": [
    "final_data.show(5)"
   ]
  },
  {
   "cell_type": "code",
   "execution_count": 9,
   "id": "959b0c8a",
   "metadata": {},
   "outputs": [],
   "source": [
    "train,test = final_data.randomSplit([0.8,0.3])"
   ]
  },
  {
   "cell_type": "code",
   "execution_count": 10,
   "id": "75e365cc",
   "metadata": {},
   "outputs": [],
   "source": [
    "from pyspark.ml.regression import LinearRegression"
   ]
  },
  {
   "cell_type": "code",
   "execution_count": null,
   "id": "67ee390f",
   "metadata": {},
   "outputs": [],
   "source": [
    "regressor = LinearRegression(featuresCol = 'features', labelCol = 'Salary')\n",
    "regressor = regressor.fit(train)"
   ]
  },
  {
   "cell_type": "code",
   "execution_count": 12,
   "id": "04f6a2dc",
   "metadata": {
    "scrolled": true
   },
   "outputs": [
    {
     "name": "stdout",
     "output_type": "stream",
     "text": [
      "+-----------+------+------------------+\n",
      "|   features|Salary|        prediction|\n",
      "+-----------+------+------------------+\n",
      "| [2.2,22.2]| 39891| 48381.45540688647|\n",
      "| [3.2,23.3]| 54445| 55808.23026938543|\n",
      "| [4.0,24.0]| 56957| 61137.85532402675|\n",
      "| [6.0,29.0]| 93940| 85508.21359903527|\n",
      "| [6.8,30.0]| 91738| 91857.49671260631|\n",
      "| [7.1,30.0]| 98273| 92963.90530653331|\n",
      "| [9.6,36.0]|112635|122577.13810118588|\n",
      "|[10.3,37.0]|122391|128557.61835011459|\n",
      "|[10.5,38.0]|121872| 132694.0842758316|\n",
      "+-----------+------+------------------+\n",
      "\n"
     ]
    }
   ],
   "source": [
    "predictions = regressor.transform(test)\n",
    "predictions.show(10)"
   ]
  },
  {
   "cell_type": "code",
   "execution_count": 13,
   "id": "8ecfee04",
   "metadata": {},
   "outputs": [
    {
     "data": {
      "text/plain": [
       "DenseVector([3688.0286, 3398.8602])"
      ]
     },
     "execution_count": 13,
     "metadata": {},
     "output_type": "execute_result"
    }
   ],
   "source": [
    "regressor.coefficients"
   ]
  },
  {
   "cell_type": "code",
   "execution_count": 14,
   "id": "ff1036c6",
   "metadata": {},
   "outputs": [
    {
     "data": {
      "text/plain": [
       "-35186.903976043424"
      ]
     },
     "execution_count": 14,
     "metadata": {},
     "output_type": "execute_result"
    }
   ],
   "source": [
    "regressor.intercept"
   ]
  },
  {
   "cell_type": "code",
   "execution_count": 15,
   "id": "cbadd726",
   "metadata": {},
   "outputs": [],
   "source": [
    "nnn = predictions.toPandas()"
   ]
  },
  {
   "cell_type": "code",
   "execution_count": 16,
   "id": "5691da68",
   "metadata": {
    "scrolled": true
   },
   "outputs": [
    {
     "data": {
      "text/plain": [
       "<matplotlib.legend.Legend at 0x7f31cfedcfa0>"
      ]
     },
     "execution_count": 16,
     "metadata": {},
     "output_type": "execute_result"
    },
    {
     "data": {
      "image/png": "[encoded data removed]",
      "text/plain": [
       "<Figure size 432x288 with 1 Axes>"
      ]
     },
     "metadata": {
      "needs_background": "light"
     },
     "output_type": "display_data"
    }
   ],
   "source": [
    "plt.plot(nnn['prediction'])\n",
    "plt.plot(nnn['Salary'])\n",
    "plt.legend(['Prediction','Salary'])"
   ]
  },
  {
   "cell_type": "code",
   "execution_count": 17,
   "id": "70af438a",
   "metadata": {},
   "outputs": [],
   "source": [
    "results = regressor.evaluate(test)"
   ]
  },
  {
   "cell_type": "code",
   "execution_count": 18,
   "id": "09565a2c",
   "metadata": {
    "scrolled": true
   },
   "outputs": [
    {
     "data": {
      "text/plain": [
       "7029.40149843954"
      ]
     },
     "execution_count": 18,
     "metadata": {},
     "output_type": "execute_result"
    }
   ],
   "source": [
    "results.rootMeanSquaredError"
   ]
  },
  {
   "cell_type": "code",
   "execution_count": 19,
   "id": "438b3f9c",
   "metadata": {},
   "outputs": [
    {
     "name": "stdout",
     "output_type": "stream",
     "text": [
      "Root Mean Squared Error (RMSE) on test data = 7029.4\n"
     ]
    }
   ],
   "source": [
    "print(\"Root Mean Squared Error (RMSE) on test data = %g\" % results.rootMeanSquaredError)"
   ]
  }
 ],
 "metadata": {
  "kernelspec": {
   "display_name": "Python 3 (ipykernel)",
   "language": "python",
   "name": "python3"
  },
  "language_info": {
   "codemirror_mode": {
    "name": "ipython",
    "version": 3
   },
   "file_extension": ".py",
   "mimetype": "text/x-python",
   "name": "python",
   "nbconvert_exporter": "python",
   "pygments_lexer": "ipython3",
   "version": "3.8.10"
  }
 },
 "nbformat": 4,
 "nbformat_minor": 5
}
